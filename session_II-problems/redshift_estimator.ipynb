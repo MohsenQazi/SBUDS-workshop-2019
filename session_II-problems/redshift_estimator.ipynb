{
 "cells": [
  {
   "cell_type": "code",
   "execution_count": 45,
   "metadata": {},
   "outputs": [],
   "source": [
    "%matplotlib inline\n",
    "\n",
    "import numpy as np\n",
    "import pylab as plt\n",
    "import pandas as pd\n",
    "from glob import glob\n",
    "from astropy.io import fits\n",
    "from astropy.table import Table\n",
    "from scipy.signal import find_peaks\n",
    "from scipy.ndimage import gaussian_filter as gfilter\n",
    "from keras.models import Sequential\n",
    "from keras.layers import Dense, Activation, Dropout, Conv1D, MaxPooling1D, Flatten\n",
    "from sklearn.metrics import confusion_matrix\n",
    "from sklearn.utils.multiclass import unique_labels\n",
    "\n",
    "\n",
    "def plot_confusion_matrix(y_true, y_pred, classes,\n",
    "                          normalize=False,\n",
    "                          title=None,\n",
    "                          cmap=plt.cm.Blues):\n",
    "    \"\"\"\n",
    "    This function prints and plots the confusion matrix.\n",
    "    Normalization can be applied by setting `normalize=True`.\n",
    "    \"\"\"\n",
    "    if not title:\n",
    "        if normalize:\n",
    "            title = 'Normalized confusion matrix'\n",
    "        else:\n",
    "            title = 'Confusion matrix, without normalization'\n",
    "\n",
    "    # Compute confusion matrix\n",
    "    cm = confusion_matrix(y_true, y_pred)\n",
    "    # Only use the labels that appear in the data\n",
    "#     classes = classes[unique_labels(y_true, y_pred)]\n",
    "    if normalize:\n",
    "        cm = cm.astype('float') / cm.sum(axis=1)[:, np.newaxis]\n",
    "#         print(\"Normalized confusion matrix\")\n",
    "#     else:\n",
    "#         print('Confusion matrix, without normalization')\n",
    "\n",
    "#     print(cm)\n",
    "    \n",
    "    fig, ax = plt.subplots(figsize=(10,10))\n",
    "    im = ax.imshow(cm, interpolation='nearest', cmap=cmap)\n",
    "    # We want to show all ticks...\n",
    "    ax.set(xticks=np.arange(cm.shape[1]),\n",
    "           yticks=np.arange(cm.shape[0]),\n",
    "           # ... and label them with the respective list entries\n",
    "           xticklabels=classes, yticklabels=classes,\n",
    "           title=title,\n",
    "           ylabel='True label',\n",
    "           xlabel='Predicted label')\n",
    "\n",
    "    # Rotate the tick labels and set their alignment.\n",
    "    plt.setp(ax.get_xticklabels(), rotation=45, ha=\"right\",\n",
    "             rotation_mode=\"anchor\")\n",
    "\n",
    "    # Loop over data dimensions and create text annotations.\n",
    "    fmt = '.2f' if normalize else 'd'\n",
    "    thresh = cm.max() / 2.\n",
    "    for i in range(cm.shape[0]):\n",
    "        for j in range(cm.shape[1]):\n",
    "            ax.text(j, i, format(cm[i, j], fmt),\n",
    "                    ha=\"center\", va=\"center\",\n",
    "                    color=\"white\" if cm[i, j] > thresh else \"black\")\n",
    "    fig.tight_layout()\n",
    "    return ax\n"
   ]
  },
  {
   "cell_type": "code",
   "execution_count": 2,
   "metadata": {},
   "outputs": [],
   "source": [
    "df = pd.read_csv('./data/sdss/metadata.csv')\n",
    "\n",
    "def name_maker(x):    \n",
    "    return 'spec-{:04d}-{:05d}-{:04d}.fits'.format(x['#plate'],x['mjd'],x['fiberid'])\n",
    "df['filename'] = df.apply(name_maker, axis=1)\n",
    "\n",
    "spec_list = glob('./data/sdss/*.fits')\n",
    "n_spec = len(spec_list)"
   ]
  },
  {
   "cell_type": "code",
   "execution_count": 3,
   "metadata": {},
   "outputs": [
    {
     "data": {
      "text/html": [
       "<i>Table length=3846</i>\n",
       "<table id=\"table140211154842120\" class=\"table-striped table-bordered table-condensed\">\n",
       "<thead><tr><th>flux</th><th>loglam</th><th>ivar</th><th>and_mask</th><th>or_mask</th><th>wdisp</th><th>sky</th><th>model</th></tr></thead>\n",
       "<thead><tr><th>float32</th><th>float32</th><th>float32</th><th>int32</th><th>int32</th><th>float32</th><th>float32</th><th>float32</th></tr></thead>\n",
       "<tr><td>13.381691</td><td>3.5787</td><td>0.030814009</td><td>0</td><td>201326592</td><td>1.2777864</td><td>12.097817</td><td>14.161554</td></tr>\n",
       "<tr><td>16.375086</td><td>3.5788</td><td>0.0</td><td>0</td><td>201326592</td><td>1.2774847</td><td>11.600357</td><td>14.195818</td></tr>\n",
       "<tr><td>19.367666</td><td>3.5789</td><td>0.03751277</td><td>0</td><td>201326592</td><td>1.2771764</td><td>10.907345</td><td>14.17663</td></tr>\n",
       "<tr><td>17.692322</td><td>3.579</td><td>0.040465236</td><td>0</td><td>201326592</td><td>1.276867</td><td>10.459112</td><td>14.16853</td></tr>\n",
       "<tr><td>16.812757</td><td>3.5791</td><td>0.040815443</td><td>0</td><td>67108864</td><td>1.2765576</td><td>10.097369</td><td>14.319841</td></tr>\n",
       "<tr><td>15.46818</td><td>3.5792</td><td>0.051060665</td><td>0</td><td>0</td><td>1.2762598</td><td>9.67116</td><td>14.336131</td></tr>\n",
       "<tr><td>10.818524</td><td>3.5793</td><td>0.054777205</td><td>0</td><td>0</td><td>1.2759517</td><td>9.437953</td><td>14.270202</td></tr>\n",
       "<tr><td>11.302782</td><td>3.5794</td><td>0.058289256</td><td>0</td><td>0</td><td>1.2756431</td><td>9.099383</td><td>14.292547</td></tr>\n",
       "<tr><td>15.053494</td><td>3.5795</td><td>0.0601058</td><td>0</td><td>0</td><td>1.2753346</td><td>8.74526</td><td>14.378578</td></tr>\n",
       "<tr><td>9.140335</td><td>3.5796</td><td>0.06621973</td><td>0</td><td>0</td><td>1.2750273</td><td>8.510984</td><td>14.416624</td></tr>\n",
       "<tr><td>...</td><td>...</td><td>...</td><td>...</td><td>...</td><td>...</td><td>...</td><td>...</td></tr>\n",
       "<tr><td>4.6533365</td><td>3.9623</td><td>1.1044626</td><td>0</td><td>0</td><td>0.65461993</td><td>4.5331078</td><td>4.101886</td></tr>\n",
       "<tr><td>5.820892</td><td>3.9624</td><td>1.0695347</td><td>0</td><td>0</td><td>0.65438884</td><td>4.2698073</td><td>4.0848136</td></tr>\n",
       "<tr><td>5.351808</td><td>3.9625</td><td>1.1012938</td><td>0</td><td>0</td><td>0.6541584</td><td>4.080642</td><td>4.0804443</td></tr>\n",
       "<tr><td>4.500042</td><td>3.9626</td><td>0.951747</td><td>0</td><td>0</td><td>0.65392715</td><td>4.5103025</td><td>4.0727997</td></tr>\n",
       "<tr><td>4.5255837</td><td>3.9627</td><td>0.848129</td><td>0</td><td>0</td><td>0.6536952</td><td>4.8617067</td><td>4.070363</td></tr>\n",
       "<tr><td>3.8727424</td><td>3.9628</td><td>1.0879141</td><td>0</td><td>0</td><td>0.6534656</td><td>4.4801617</td><td>4.079163</td></tr>\n",
       "<tr><td>4.5128613</td><td>3.9629</td><td>1.262305</td><td>0</td><td>0</td><td>0.65323395</td><td>4.2659693</td><td>4.068852</td></tr>\n",
       "<tr><td>6.223101</td><td>3.963</td><td>1.2083657</td><td>0</td><td>0</td><td>0.65300226</td><td>4.4045167</td><td>4.05937</td></tr>\n",
       "<tr><td>5.276596</td><td>3.9631</td><td>1.1534187</td><td>0</td><td>0</td><td>0.6527718</td><td>4.8331337</td><td>4.0513363</td></tr>\n",
       "<tr><td>4.7999105</td><td>3.9632</td><td>1.2386721</td><td>0</td><td>0</td><td>0.6525403</td><td>4.857406</td><td>4.0467744</td></tr>\n",
       "</table>"
      ],
      "text/plain": [
       "<Table length=3846>\n",
       "   flux    loglam     ivar    and_mask  or_mask    wdisp       sky      model  \n",
       " float32  float32   float32    int32     int32    float32    float32   float32 \n",
       "--------- ------- ----------- -------- --------- ---------- --------- ---------\n",
       "13.381691  3.5787 0.030814009        0 201326592  1.2777864 12.097817 14.161554\n",
       "16.375086  3.5788         0.0        0 201326592  1.2774847 11.600357 14.195818\n",
       "19.367666  3.5789  0.03751277        0 201326592  1.2771764 10.907345  14.17663\n",
       "17.692322   3.579 0.040465236        0 201326592   1.276867 10.459112  14.16853\n",
       "16.812757  3.5791 0.040815443        0  67108864  1.2765576 10.097369 14.319841\n",
       " 15.46818  3.5792 0.051060665        0         0  1.2762598   9.67116 14.336131\n",
       "10.818524  3.5793 0.054777205        0         0  1.2759517  9.437953 14.270202\n",
       "11.302782  3.5794 0.058289256        0         0  1.2756431  9.099383 14.292547\n",
       "15.053494  3.5795   0.0601058        0         0  1.2753346   8.74526 14.378578\n",
       " 9.140335  3.5796  0.06621973        0         0  1.2750273  8.510984 14.416624\n",
       "      ...     ...         ...      ...       ...        ...       ...       ...\n",
       "4.6533365  3.9623   1.1044626        0         0 0.65461993 4.5331078  4.101886\n",
       " 5.820892  3.9624   1.0695347        0         0 0.65438884 4.2698073 4.0848136\n",
       " 5.351808  3.9625   1.1012938        0         0  0.6541584  4.080642 4.0804443\n",
       " 4.500042  3.9626    0.951747        0         0 0.65392715 4.5103025 4.0727997\n",
       "4.5255837  3.9627    0.848129        0         0  0.6536952 4.8617067  4.070363\n",
       "3.8727424  3.9628   1.0879141        0         0  0.6534656 4.4801617  4.079163\n",
       "4.5128613  3.9629    1.262305        0         0 0.65323395 4.2659693  4.068852\n",
       " 6.223101   3.963   1.2083657        0         0 0.65300226 4.4045167   4.05937\n",
       " 5.276596  3.9631   1.1534187        0         0  0.6527718 4.8331337 4.0513363\n",
       "4.7999105  3.9632   1.2386721        0         0  0.6525403  4.857406 4.0467744"
      ]
     },
     "execution_count": 3,
     "metadata": {},
     "output_type": "execute_result"
    }
   ],
   "source": [
    "hdul = fits.open(spec_list[0])  # open a FITS file\n",
    "data = hdul[1].data  # assume the first extension is a table\n",
    "tdata = Table(data)\n",
    "tdata"
   ]
  },
  {
   "cell_type": "code",
   "execution_count": 4,
   "metadata": {},
   "outputs": [],
   "source": [
    "X_train = []\n",
    "y_train = []\n",
    "X_test = []\n",
    "y_test = []\n",
    "\n",
    "lamins = []\n",
    "\n",
    "lam_max = 3500\n",
    "for i in range(n_spec):\n",
    "    hdul = fits.open(spec_list[i])  # open a FITS file\n",
    "    data = hdul[1].data  # assume the first extension is a table\n",
    "    tdata = Table(data)\n",
    "    mdl = np.array(tdata['model'])\n",
    "    \n",
    "    if np.array(tdata['loglam'])[0]>3.6 or mdl.shape[0]<lam_max:\n",
    "        continue\n",
    "    xx = mdl[:lam_max]\n",
    "    \n",
    "#     mdl = gfilter(mdl,10)\n",
    "#     p_list = find_peaks(mdl)[0]\n",
    "#     xx = np.zeros(50)\n",
    "#     xx[:len(p_list):2] = np.array(tdata['loglam'])[p_list][:25]\n",
    "#     xx[1:len(p_list):2] = np.array(tdata['model'])[p_list][:25]\n",
    "\n",
    "#     inds = np.argsort(mdl)[::-1]\n",
    "#     xx = np.array(tdata['loglam'])[inds][:1000]\n",
    "\n",
    "    z = df[df['filename']==spec_list[i].split('/')[-1]]['z'].values[0]\n",
    "    zclass = int(10*(z-1))\n",
    "    zhotv = np.zeros(10)\n",
    "    zhotv[zclass] = 1\n",
    "    if i<n_spec//2:\n",
    "        X_train.append(xx)\n",
    "        y_train.append(zhotv)\n",
    "    else:\n",
    "        X_test.append(xx)\n",
    "        y_test.append(zhotv)\n",
    "    # tdata"
   ]
  },
  {
   "cell_type": "code",
   "execution_count": 5,
   "metadata": {},
   "outputs": [
    {
     "name": "stdout",
     "output_type": "stream",
     "text": [
      "(1581, 3500, 1) (1581, 10) (1580, 3500, 1) (1580, 10)\n"
     ]
    }
   ],
   "source": [
    "X_train = np.array(X_train)\n",
    "y_train = np.array(y_train)\n",
    "X_test = np.array(X_test)\n",
    "y_test = np.array(y_test)\n",
    "input_dim = X_train.shape[1]\n",
    "\n",
    "X_train = np.expand_dims(X_train,-1)\n",
    "X_test = np.expand_dims(X_test,-1)\n",
    "\n",
    "print(X_train.shape,y_train.shape,X_test.shape,y_test.shape)"
   ]
  },
  {
   "cell_type": "code",
   "execution_count": 6,
   "metadata": {},
   "outputs": [],
   "source": [
    "# num = 100\n",
    "# for i in range(num):\n",
    "#     plt.plot(X_train[i,:],color=(1.*(num-i)/num,1.*i/num,0),alpha=0.1)"
   ]
  },
  {
   "cell_type": "code",
   "execution_count": 7,
   "metadata": {},
   "outputs": [],
   "source": [
    "# model = Sequential()\n",
    "# model.add(Dense(128, activation='relu', input_dim=input_dim))\n",
    "# model.add(Dense(64, activation='relu')) \n",
    "# model.add(Dense(32, activation='relu'))\n",
    "# model.add(Dense(16, activation='relu'))\n",
    "# model.add(Dropout(0.5))\n",
    "# model.add(Dense(10, activation='sigmoid'))"
   ]
  },
  {
   "cell_type": "code",
   "execution_count": 12,
   "metadata": {},
   "outputs": [],
   "source": [
    "model = Sequential()\n",
    "model.add(Conv1D(10, 10, strides=1))\n",
    "model.add(MaxPooling1D(pool_size=3))\n",
    "model.add(Conv1D(10, 10, strides=1))\n",
    "model.add(MaxPooling1D(pool_size=3))\n",
    "model.add(Conv1D(10, 10, strides=1))\n",
    "model.add(MaxPooling1D(pool_size=3))             \n",
    "model.add(Flatten())\n",
    "model.add(Dense(32, activation='relu'))\n",
    "model.add(Dense(16, activation='relu'))\n",
    "model.add(Dropout(0.5))\n",
    "model.add(Dense(10, activation='sigmoid'))"
   ]
  },
  {
   "cell_type": "code",
   "execution_count": 13,
   "metadata": {},
   "outputs": [],
   "source": [
    "model.compile(loss='categorical_crossentropy',\n",
    "              optimizer='adam',\n",
    "              metrics=['accuracy'])"
   ]
  },
  {
   "cell_type": "code",
   "execution_count": 14,
   "metadata": {},
   "outputs": [
    {
     "data": {
      "text/plain": [
       "<keras.callbacks.History at 0x7f8574191e48>"
      ]
     },
     "execution_count": 14,
     "metadata": {},
     "output_type": "execute_result"
    }
   ],
   "source": [
    "model.fit(X_train,y_train,epochs=100,batch_size=100,verbose=0)"
   ]
  },
  {
   "cell_type": "code",
   "execution_count": 15,
   "metadata": {},
   "outputs": [
    {
     "name": "stdout",
     "output_type": "stream",
     "text": [
      "1580/1580 [==============================] - 0s 300us/step\n"
     ]
    },
    {
     "data": {
      "text/plain": [
       "[0.35916550955440424, 0.9000000001508979]"
      ]
     },
     "execution_count": 15,
     "metadata": {},
     "output_type": "execute_result"
    }
   ],
   "source": [
    "model.evaluate(X_test,y_test)"
   ]
  },
  {
   "cell_type": "code",
   "execution_count": 16,
   "metadata": {},
   "outputs": [],
   "source": [
    "y_pred = model.predict(X_test)\n",
    "y_true = y_test.argmax(axis=1)\n",
    "y_pred = y_pred.argmax(axis=1)"
   ]
  },
  {
   "cell_type": "code",
   "execution_count": 46,
   "metadata": {},
   "outputs": [
    {
     "data": {
      "text/plain": [
       "<matplotlib.axes._subplots.AxesSubplot at 0x7f850f63b128>"
      ]
     },
     "execution_count": 46,
     "metadata": {},
     "output_type": "execute_result"
    },
    {
     "data": {
      "image/png": "[encoded data removed]",
      "text/plain": [
       "<Figure size 720x720 with 1 Axes>"
      ]
     },
     "metadata": {
      "needs_background": "light"
     },
     "output_type": "display_data"
    }
   ],
   "source": [
    "plot_confusion_matrix(y_true, y_pred,\n",
    "                      ['{:4.2f}'.format(i+0.05) for i in np.linspace(0,1,10,endpoint=0)],\n",
    "                      normalize=1,title='CM')"
   ]
  },
  {
   "cell_type": "code",
   "execution_count": null,
   "metadata": {},
   "outputs": [],
   "source": []
  },
  {
   "cell_type": "code",
   "execution_count": null,
   "metadata": {},
   "outputs": [],
   "source": []
  }
 ],
 "metadata": {
  "kernelspec": {
   "display_name": "Python 3",
   "language": "python",
   "name": "python3"
  },
  "language_info": {
   "codemirror_mode": {
    "name": "ipython",
    "version": 3
   },
   "file_extension": ".py",
   "mimetype": "text/x-python",
   "name": "python",
   "nbconvert_exporter": "python",
   "pygments_lexer": "ipython3",
   "version": "3.6.6"
  }
 },
 "nbformat": 4,
 "nbformat_minor": 2
}
