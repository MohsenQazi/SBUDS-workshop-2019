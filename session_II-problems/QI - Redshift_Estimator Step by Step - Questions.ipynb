{
 "cells": [
  {
   "cell_type": "markdown",
   "metadata": {},
   "source": [
    "# There is a hint for each section, after the answer field\n",
    "\n",
    "## first think then use the hint!\n",
    "\n",
    "### Good luck"
   ]
  },
  {
   "cell_type": "markdown",
   "metadata": {},
   "source": [
    "## First and foremost import the-as-usual libraries (hamoon hamishegi!) needed to data analysis"
   ]
  },
  {
   "cell_type": "code",
   "execution_count": null,
   "metadata": {},
   "outputs": [],
   "source": []
  },
  {
   "cell_type": "markdown",
   "metadata": {},
   "source": [
    "**HINT:**\n",
    "\n",
    "import numpy as np \n",
    "\n",
    "import matplotl...\n",
    "\n",
    "import pan....\n",
    "\n",
    "%matplotli..."
   ]
  },
  {
   "cell_type": "markdown",
   "metadata": {},
   "source": [
    "### read the `metadata.csv` in sdss folder using pandas\n",
    "#### change directory if it is needed"
   ]
  },
  {
   "cell_type": "code",
   "execution_count": null,
   "metadata": {},
   "outputs": [],
   "source": []
  },
  {
   "cell_type": "markdown",
   "metadata": {},
   "source": [
    "**HINT:**\n",
    "\n",
    "df = pd...('ADDRESS TO THE FILE')"
   ]
  },
  {
   "cell_type": "markdown",
   "metadata": {},
   "source": [
    "### check the file"
   ]
  },
  {
   "cell_type": "code",
   "execution_count": null,
   "metadata": {},
   "outputs": [],
   "source": []
  },
  {
   "cell_type": "code",
   "execution_count": 3,
   "metadata": {
    "scrolled": true
   },
   "outputs": [
    {
     "data": {
      "text/html": [
       "<div>\n",
       "<style scoped>\n",
       "    .dataframe tbody tr th:only-of-type {\n",
       "        vertical-align: middle;\n",
       "    }\n",
       "\n",
       "    .dataframe tbody tr th {\n",
       "        vertical-align: top;\n",
       "    }\n",
       "\n",
       "    .dataframe thead th {\n",
       "        text-align: right;\n",
       "    }\n",
       "</style>\n",
       "<table border=\"1\" class=\"dataframe\">\n",
       "  <thead>\n",
       "    <tr style=\"text-align: right;\">\n",
       "      <th></th>\n",
       "      <th>#plate</th>\n",
       "      <th>mjd</th>\n",
       "      <th>fiberid</th>\n",
       "      <th>sn_median_r</th>\n",
       "      <th>z</th>\n",
       "      <th>zerr</th>\n",
       "      <th>zwarning</th>\n",
       "    </tr>\n",
       "  </thead>\n",
       "  <tbody>\n",
       "    <tr>\n",
       "      <th>count</th>\n",
       "      <td>62239.000000</td>\n",
       "      <td>62239.000000</td>\n",
       "      <td>62239.000000</td>\n",
       "      <td>62239.000000</td>\n",
       "      <td>62239.000000</td>\n",
       "      <td>62239.000000</td>\n",
       "      <td>62239.000000</td>\n",
       "    </tr>\n",
       "    <tr>\n",
       "      <th>mean</th>\n",
       "      <td>1403.991420</td>\n",
       "      <td>53000.446938</td>\n",
       "      <td>318.940584</td>\n",
       "      <td>10.671064</td>\n",
       "      <td>1.493647</td>\n",
       "      <td>0.086802</td>\n",
       "      <td>0.208101</td>\n",
       "    </tr>\n",
       "    <tr>\n",
       "      <th>std</th>\n",
       "      <td>800.218039</td>\n",
       "      <td>866.097018</td>\n",
       "      <td>186.254275</td>\n",
       "      <td>6.579626</td>\n",
       "      <td>0.280257</td>\n",
       "      <td>2.133877</td>\n",
       "      <td>0.888319</td>\n",
       "    </tr>\n",
       "    <tr>\n",
       "      <th>min</th>\n",
       "      <td>266.000000</td>\n",
       "      <td>51578.000000</td>\n",
       "      <td>1.000000</td>\n",
       "      <td>-2.740000</td>\n",
       "      <td>1.000060</td>\n",
       "      <td>-6.000000</td>\n",
       "      <td>0.000000</td>\n",
       "    </tr>\n",
       "    <tr>\n",
       "      <th>25%</th>\n",
       "      <td>688.000000</td>\n",
       "      <td>52264.000000</td>\n",
       "      <td>157.000000</td>\n",
       "      <td>6.140000</td>\n",
       "      <td>1.252525</td>\n",
       "      <td>0.000326</td>\n",
       "      <td>0.000000</td>\n",
       "    </tr>\n",
       "    <tr>\n",
       "      <th>50%</th>\n",
       "      <td>1287.000000</td>\n",
       "      <td>52825.000000</td>\n",
       "      <td>318.000000</td>\n",
       "      <td>9.570000</td>\n",
       "      <td>1.498480</td>\n",
       "      <td>0.000455</td>\n",
       "      <td>0.000000</td>\n",
       "    </tr>\n",
       "    <tr>\n",
       "      <th>75%</th>\n",
       "      <td>2018.000000</td>\n",
       "      <td>53727.000000</td>\n",
       "      <td>481.000000</td>\n",
       "      <td>13.390000</td>\n",
       "      <td>1.729835</td>\n",
       "      <td>0.000661</td>\n",
       "      <td>0.000000</td>\n",
       "    </tr>\n",
       "    <tr>\n",
       "      <th>max</th>\n",
       "      <td>3478.000000</td>\n",
       "      <td>55008.000000</td>\n",
       "      <td>640.000000</td>\n",
       "      <td>105.660000</td>\n",
       "      <td>1.999990</td>\n",
       "      <td>236.059000</td>\n",
       "      <td>4.000000</td>\n",
       "    </tr>\n",
       "  </tbody>\n",
       "</table>\n",
       "</div>"
      ],
      "text/plain": [
       "             #plate           mjd       fiberid   sn_median_r             z  \\\n",
       "count  62239.000000  62239.000000  62239.000000  62239.000000  62239.000000   \n",
       "mean    1403.991420  53000.446938    318.940584     10.671064      1.493647   \n",
       "std      800.218039    866.097018    186.254275      6.579626      0.280257   \n",
       "min      266.000000  51578.000000      1.000000     -2.740000      1.000060   \n",
       "25%      688.000000  52264.000000    157.000000      6.140000      1.252525   \n",
       "50%     1287.000000  52825.000000    318.000000      9.570000      1.498480   \n",
       "75%     2018.000000  53727.000000    481.000000     13.390000      1.729835   \n",
       "max     3478.000000  55008.000000    640.000000    105.660000      1.999990   \n",
       "\n",
       "               zerr      zwarning  \n",
       "count  62239.000000  62239.000000  \n",
       "mean       0.086802      0.208101  \n",
       "std        2.133877      0.888319  \n",
       "min       -6.000000      0.000000  \n",
       "25%        0.000326      0.000000  \n",
       "50%        0.000455      0.000000  \n",
       "75%        0.000661      0.000000  \n",
       "max      236.059000      4.000000  "
      ]
     },
     "execution_count": 3,
     "metadata": {},
     "output_type": "execute_result"
    }
   ],
   "source": []
  },
  {
   "cell_type": "code",
   "execution_count": null,
   "metadata": {},
   "outputs": [],
   "source": []
  },
  {
   "cell_type": "code",
   "execution_count": 4,
   "metadata": {},
   "outputs": [
    {
     "data": {
      "text/html": [
       "<div>\n",
       "<style scoped>\n",
       "    .dataframe tbody tr th:only-of-type {\n",
       "        vertical-align: middle;\n",
       "    }\n",
       "\n",
       "    .dataframe tbody tr th {\n",
       "        vertical-align: top;\n",
       "    }\n",
       "\n",
       "    .dataframe thead th {\n",
       "        text-align: right;\n",
       "    }\n",
       "</style>\n",
       "<table border=\"1\" class=\"dataframe\">\n",
       "  <thead>\n",
       "    <tr style=\"text-align: right;\">\n",
       "      <th></th>\n",
       "      <th>#plate</th>\n",
       "      <th>mjd</th>\n",
       "      <th>fiberid</th>\n",
       "      <th>run2d</th>\n",
       "      <th>specobj_id</th>\n",
       "      <th>ra</th>\n",
       "      <th>dec</th>\n",
       "      <th>sn_median_r</th>\n",
       "      <th>z</th>\n",
       "      <th>zerr</th>\n",
       "      <th>zwarning</th>\n",
       "      <th>class</th>\n",
       "      <th>subclass</th>\n",
       "    </tr>\n",
       "  </thead>\n",
       "  <tbody>\n",
       "    <tr>\n",
       "      <th>0</th>\n",
       "      <td>266</td>\n",
       "      <td>51602</td>\n",
       "      <td>52</td>\n",
       "      <td>'26'</td>\n",
       "      <td>'299503695748425728'</td>\n",
       "      <td>'09:45:45.12'</td>\n",
       "      <td>'-00:39:21.64'</td>\n",
       "      <td>8.03</td>\n",
       "      <td>1.47375</td>\n",
       "      <td>0.000442</td>\n",
       "      <td>0</td>\n",
       "      <td>'QSO'</td>\n",
       "      <td>'BROADLINE'</td>\n",
       "    </tr>\n",
       "    <tr>\n",
       "      <th>1</th>\n",
       "      <td>266</td>\n",
       "      <td>51602</td>\n",
       "      <td>74</td>\n",
       "      <td>'26'</td>\n",
       "      <td>'299509743062378496'</td>\n",
       "      <td>'09:47:03.32'</td>\n",
       "      <td>'+00:02:29.12'</td>\n",
       "      <td>6.45</td>\n",
       "      <td>1.77191</td>\n",
       "      <td>0.001702</td>\n",
       "      <td>0</td>\n",
       "      <td>'QSO'</td>\n",
       "      <td>''</td>\n",
       "    </tr>\n",
       "    <tr>\n",
       "      <th>2</th>\n",
       "      <td>266</td>\n",
       "      <td>51602</td>\n",
       "      <td>216</td>\n",
       "      <td>'26'</td>\n",
       "      <td>'299548775725164544'</td>\n",
       "      <td>'09:42:57.82'</td>\n",
       "      <td>'-00:47:05.23'</td>\n",
       "      <td>12.68</td>\n",
       "      <td>1.36221</td>\n",
       "      <td>0.000804</td>\n",
       "      <td>0</td>\n",
       "      <td>'QSO'</td>\n",
       "      <td>'BROADLINE'</td>\n",
       "    </tr>\n",
       "    <tr>\n",
       "      <th>3</th>\n",
       "      <td>266</td>\n",
       "      <td>51602</td>\n",
       "      <td>222</td>\n",
       "      <td>'26'</td>\n",
       "      <td>'299550424992606208'</td>\n",
       "      <td>'09:43:02.94'</td>\n",
       "      <td>'-00:13:10.74'</td>\n",
       "      <td>11.55</td>\n",
       "      <td>1.58543</td>\n",
       "      <td>0.000005</td>\n",
       "      <td>0</td>\n",
       "      <td>'QSO'</td>\n",
       "      <td>'BROADLINE'</td>\n",
       "    </tr>\n",
       "    <tr>\n",
       "      <th>4</th>\n",
       "      <td>266</td>\n",
       "      <td>51602</td>\n",
       "      <td>232</td>\n",
       "      <td>'26'</td>\n",
       "      <td>'299553173771675648'</td>\n",
       "      <td>'09:42:58.59'</td>\n",
       "      <td>'-00:02:36.84'</td>\n",
       "      <td>8.67</td>\n",
       "      <td>1.61692</td>\n",
       "      <td>0.000405</td>\n",
       "      <td>0</td>\n",
       "      <td>'QSO'</td>\n",
       "      <td>'BROADLINE'</td>\n",
       "    </tr>\n",
       "  </tbody>\n",
       "</table>\n",
       "</div>"
      ],
      "text/plain": [
       "   #plate    mjd  fiberid run2d            specobj_id             ra  \\\n",
       "0     266  51602       52  '26'  '299503695748425728'  '09:45:45.12'   \n",
       "1     266  51602       74  '26'  '299509743062378496'  '09:47:03.32'   \n",
       "2     266  51602      216  '26'  '299548775725164544'  '09:42:57.82'   \n",
       "3     266  51602      222  '26'  '299550424992606208'  '09:43:02.94'   \n",
       "4     266  51602      232  '26'  '299553173771675648'  '09:42:58.59'   \n",
       "\n",
       "              dec  sn_median_r        z      zerr  zwarning  class  \\\n",
       "0  '-00:39:21.64'         8.03  1.47375  0.000442         0  'QSO'   \n",
       "1  '+00:02:29.12'         6.45  1.77191  0.001702         0  'QSO'   \n",
       "2  '-00:47:05.23'        12.68  1.36221  0.000804         0  'QSO'   \n",
       "3  '-00:13:10.74'        11.55  1.58543  0.000005         0  'QSO'   \n",
       "4  '-00:02:36.84'         8.67  1.61692  0.000405         0  'QSO'   \n",
       "\n",
       "      subclass  \n",
       "0  'BROADLINE'  \n",
       "1           ''  \n",
       "2  'BROADLINE'  \n",
       "3  'BROADLINE'  \n",
       "4  'BROADLINE'  "
      ]
     },
     "execution_count": 4,
     "metadata": {},
     "output_type": "execute_result"
    }
   ],
   "source": []
  },
  {
   "cell_type": "markdown",
   "metadata": {},
   "source": [
    "#### create a function that uses columns `'#plate'` and `'mjd'` and `'fiberid'` and create the file names in the SDSS folder\n",
    "\n",
    "#### then add a new column named `'filename'` in your DataFrame in the previous cell with this filename\n",
    "\n",
    "* you should use pandas apply method to apply the function on the columns\n",
    "    for example for adding c1 and c2 columns\n",
    "    \n",
    "    def add(x):\n",
    "        return x['c1'] + x['c2']\n",
    "    \n",
    "    x.apply(add, axis=1)\n",
    "    \n",
    "    "
   ]
  },
  {
   "cell_type": "code",
   "execution_count": null,
   "metadata": {},
   "outputs": [],
   "source": []
  },
  {
   "cell_type": "markdown",
   "metadata": {},
   "source": [
    "**HINT:**\n",
    "\n",
    "def name_maker(x):\n",
    "\n",
    "    return 'spec-{:04d.....}'.format(x['#plat....)\n",
    "\n",
    "df[.....]....apply(name_maker....1)"
   ]
  },
  {
   "cell_type": "markdown",
   "metadata": {},
   "source": [
    "### check the output!"
   ]
  },
  {
   "cell_type": "code",
   "execution_count": null,
   "metadata": {},
   "outputs": [],
   "source": []
  },
  {
   "cell_type": "code",
   "execution_count": 6,
   "metadata": {},
   "outputs": [
    {
     "data": {
      "text/html": [
       "<div>\n",
       "<style scoped>\n",
       "    .dataframe tbody tr th:only-of-type {\n",
       "        vertical-align: middle;\n",
       "    }\n",
       "\n",
       "    .dataframe tbody tr th {\n",
       "        vertical-align: top;\n",
       "    }\n",
       "\n",
       "    .dataframe thead th {\n",
       "        text-align: right;\n",
       "    }\n",
       "</style>\n",
       "<table border=\"1\" class=\"dataframe\">\n",
       "  <thead>\n",
       "    <tr style=\"text-align: right;\">\n",
       "      <th></th>\n",
       "      <th>#plate</th>\n",
       "      <th>mjd</th>\n",
       "      <th>fiberid</th>\n",
       "      <th>run2d</th>\n",
       "      <th>specobj_id</th>\n",
       "      <th>ra</th>\n",
       "      <th>dec</th>\n",
       "      <th>sn_median_r</th>\n",
       "      <th>z</th>\n",
       "      <th>zerr</th>\n",
       "      <th>zwarning</th>\n",
       "      <th>class</th>\n",
       "      <th>subclass</th>\n",
       "      <th>filename</th>\n",
       "    </tr>\n",
       "  </thead>\n",
       "  <tbody>\n",
       "    <tr>\n",
       "      <th>47443</th>\n",
       "      <td>2080</td>\n",
       "      <td>53350</td>\n",
       "      <td>132</td>\n",
       "      <td>'26'</td>\n",
       "      <td>'2341908146320074752'</td>\n",
       "      <td>'07:51:48.78'</td>\n",
       "      <td>'+15:12:35.70'</td>\n",
       "      <td>14.10</td>\n",
       "      <td>1.94570</td>\n",
       "      <td>0.000254</td>\n",
       "      <td>0</td>\n",
       "      <td>'QSO'</td>\n",
       "      <td>'BROADLINE'</td>\n",
       "      <td>spec-2080-53350-0132.fits</td>\n",
       "    </tr>\n",
       "    <tr>\n",
       "      <th>61146</th>\n",
       "      <td>2970</td>\n",
       "      <td>54589</td>\n",
       "      <td>208</td>\n",
       "      <td>'26'</td>\n",
       "      <td>'3343979974917908480'</td>\n",
       "      <td>'16:24:16.76'</td>\n",
       "      <td>'+18:01:52.60'</td>\n",
       "      <td>10.25</td>\n",
       "      <td>1.45079</td>\n",
       "      <td>0.000603</td>\n",
       "      <td>0</td>\n",
       "      <td>'QSO'</td>\n",
       "      <td>'BROADLINE'</td>\n",
       "      <td>spec-2970-54589-0208.fits</td>\n",
       "    </tr>\n",
       "    <tr>\n",
       "      <th>55527</th>\n",
       "      <td>2570</td>\n",
       "      <td>54081</td>\n",
       "      <td>82</td>\n",
       "      <td>'26'</td>\n",
       "      <td>'2893585369041758208'</td>\n",
       "      <td>'08:07:03.84'</td>\n",
       "      <td>'+07:32:43.88'</td>\n",
       "      <td>8.82</td>\n",
       "      <td>1.69267</td>\n",
       "      <td>0.000594</td>\n",
       "      <td>0</td>\n",
       "      <td>'QSO'</td>\n",
       "      <td>'BROADLINE'</td>\n",
       "      <td>spec-2570-54081-0082.fits</td>\n",
       "    </tr>\n",
       "    <tr>\n",
       "      <th>38888</th>\n",
       "      <td>1680</td>\n",
       "      <td>53171</td>\n",
       "      <td>421</td>\n",
       "      <td>'26'</td>\n",
       "      <td>'1891627620295010304'</td>\n",
       "      <td>'15:38:15.37'</td>\n",
       "      <td>'+40:09:14.66'</td>\n",
       "      <td>15.02</td>\n",
       "      <td>1.44955</td>\n",
       "      <td>0.000405</td>\n",
       "      <td>0</td>\n",
       "      <td>'QSO'</td>\n",
       "      <td>'BROADLINE'</td>\n",
       "      <td>spec-1680-53171-0421.fits</td>\n",
       "    </tr>\n",
       "    <tr>\n",
       "      <th>34998</th>\n",
       "      <td>1425</td>\n",
       "      <td>52913</td>\n",
       "      <td>302</td>\n",
       "      <td>'26'</td>\n",
       "      <td>'1604490429250693120'</td>\n",
       "      <td>'16:58:21.93'</td>\n",
       "      <td>'+20:20:01.24'</td>\n",
       "      <td>12.25</td>\n",
       "      <td>1.73465</td>\n",
       "      <td>0.000411</td>\n",
       "      <td>0</td>\n",
       "      <td>'QSO'</td>\n",
       "      <td>'BROADLINE'</td>\n",
       "      <td>spec-1425-52913-0302.fits</td>\n",
       "    </tr>\n",
       "  </tbody>\n",
       "</table>\n",
       "</div>"
      ],
      "text/plain": [
       "       #plate    mjd  fiberid run2d             specobj_id             ra  \\\n",
       "47443    2080  53350      132  '26'  '2341908146320074752'  '07:51:48.78'   \n",
       "61146    2970  54589      208  '26'  '3343979974917908480'  '16:24:16.76'   \n",
       "55527    2570  54081       82  '26'  '2893585369041758208'  '08:07:03.84'   \n",
       "38888    1680  53171      421  '26'  '1891627620295010304'  '15:38:15.37'   \n",
       "34998    1425  52913      302  '26'  '1604490429250693120'  '16:58:21.93'   \n",
       "\n",
       "                  dec  sn_median_r        z      zerr  zwarning  class  \\\n",
       "47443  '+15:12:35.70'        14.10  1.94570  0.000254         0  'QSO'   \n",
       "61146  '+18:01:52.60'        10.25  1.45079  0.000603         0  'QSO'   \n",
       "55527  '+07:32:43.88'         8.82  1.69267  0.000594         0  'QSO'   \n",
       "38888  '+40:09:14.66'        15.02  1.44955  0.000405         0  'QSO'   \n",
       "34998  '+20:20:01.24'        12.25  1.73465  0.000411         0  'QSO'   \n",
       "\n",
       "          subclass                   filename  \n",
       "47443  'BROADLINE'  spec-2080-53350-0132.fits  \n",
       "61146  'BROADLINE'  spec-2970-54589-0208.fits  \n",
       "55527  'BROADLINE'  spec-2570-54081-0082.fits  \n",
       "38888  'BROADLINE'  spec-1680-53171-0421.fits  \n",
       "34998  'BROADLINE'  spec-1425-52913-0302.fits  "
      ]
     },
     "execution_count": 6,
     "metadata": {},
     "output_type": "execute_result"
    }
   ],
   "source": []
  },
  {
   "cell_type": "markdown",
   "metadata": {},
   "source": [
    "### you need a the list of fits files\n",
    "#### Dang it! you can't use `` m=`ls *.fits` `` here, or can you?\n",
    "#### don't worry! use import glob funtion from glob library!"
   ]
  },
  {
   "cell_type": "code",
   "execution_count": null,
   "metadata": {},
   "outputs": [],
   "source": []
  },
  {
   "cell_type": "markdown",
   "metadata": {},
   "source": [
    "**HINT:**\n",
    "\n",
    "from glob ..."
   ]
  },
  {
   "cell_type": "markdown",
   "metadata": {},
   "source": [
    "### now give the address of fits files using *!\n",
    "\n",
    "### for example `glob('ADDRESS_TO_THE_FITS_FILES/*.fits')`"
   ]
  },
  {
   "cell_type": "code",
   "execution_count": null,
   "metadata": {},
   "outputs": [],
   "source": []
  },
  {
   "cell_type": "markdown",
   "metadata": {},
   "source": [
    "**HINT:**\n",
    "\n",
    "spec_list = glob('adress to the fileSSSSSSS (file ha)')"
   ]
  },
  {
   "cell_type": "markdown",
   "metadata": {},
   "source": [
    "### Check out the type of the output! it is a list!\n",
    "you can use the indecies!"
   ]
  },
  {
   "cell_type": "code",
   "execution_count": null,
   "metadata": {},
   "outputs": [],
   "source": []
  },
  {
   "cell_type": "code",
   "execution_count": 9,
   "metadata": {
    "scrolled": true
   },
   "outputs": [
    {
     "data": {
      "text/plain": [
       "list"
      ]
     },
     "execution_count": 9,
     "metadata": {},
     "output_type": "execute_result"
    }
   ],
   "source": []
  },
  {
   "cell_type": "markdown",
   "metadata": {},
   "source": [
    "## you now need to read fits file!\n",
    "fits file are complex file format you can put various data type in them from data to picture\n",
    "\n",
    "import `fits` from `astropy.io` library"
   ]
  },
  {
   "cell_type": "code",
   "execution_count": null,
   "metadata": {},
   "outputs": [],
   "source": []
  },
  {
   "cell_type": "markdown",
   "metadata": {},
   "source": [
    "**HINT:**\n",
    "\n",
    "from astropy.io ...."
   ]
  },
  {
   "cell_type": "code",
   "execution_count": null,
   "metadata": {},
   "outputs": [],
   "source": []
  },
  {
   "cell_type": "markdown",
   "metadata": {},
   "source": [
    "hdul = fits.open(THIS IS FITS FILE) "
   ]
  },
  {
   "cell_type": "markdown",
   "metadata": {},
   "source": [
    "### About fits file format\n",
    "\n",
    "**fits data are complex data format**\n",
    "\n",
    "**there are some things like folder inside them**\n",
    "\n",
    "**use this commend to take a look**\n",
    "\n",
    "**`ESM_OBJECT.info()`**"
   ]
  },
  {
   "cell_type": "code",
   "execution_count": null,
   "metadata": {},
   "outputs": [],
   "source": []
  },
  {
   "cell_type": "code",
   "execution_count": 12,
   "metadata": {
    "scrolled": true
   },
   "outputs": [
    {
     "name": "stdout",
     "output_type": "stream",
     "text": [
      "Filename: ../sdss/spec-0266-51602-0579.fits\n",
      "No.    Name      Ver    Type      Cards   Dimensions   Format\n",
      "  0  PRIMARY       1 PrimaryHDU     122   ()      \n",
      "  1  COADD         1 BinTableHDU     26   3831R x 8C   [E, E, E, J, J, E, E, E]   \n",
      "  2  SPECOBJ       1 BinTableHDU    262   1R x 126C   [6A, 4A, 16A, 23A, 16A, 8A, E, E, E, J, E, E, J, B, B, B, B, B, B, J, 22A, 19A, 19A, 22A, 19A, I, 3A, 3A, 1A, J, D, D, D, E, E, 19A, 8A, J, J, J, J, K, K, J, J, J, J, J, J, K, K, K, K, I, J, J, J, J, 5J, D, D, 6A, 21A, E, E, E, J, E, 24A, 10J, J, 10E, E, E, E, E, E, E, J, E, E, E, J, E, 5E, E, 10E, 10E, 10E, 5E, 5E, 5E, 5E, 5E, J, J, E, E, E, E, E, E, 25A, 21A, 10A, E, E, E, E, E, E, E, E, J, E, E, J, 1A, 1A, E, E, J, J, 1A, 5E, 5E]   \n",
      "  3  SPZLINE       1 BinTableHDU     48   29R x 19C   [J, J, J, 13A, D, E, E, E, E, E, E, E, E, E, E, J, J, E, E]   \n"
     ]
    }
   ],
   "source": []
  },
  {
   "cell_type": "code",
   "execution_count": null,
   "metadata": {},
   "outputs": [],
   "source": []
  },
  {
   "cell_type": "markdown",
   "metadata": {},
   "source": [
    "**HINT:**\n",
    "\n",
    "data = hdul[1].data  # assume the first extension is a table"
   ]
  },
  {
   "cell_type": "markdown",
   "metadata": {},
   "source": [
    "### You need a tabular data \n",
    "use `Table` function from  `astropy.table`"
   ]
  },
  {
   "cell_type": "code",
   "execution_count": null,
   "metadata": {},
   "outputs": [],
   "source": []
  },
  {
   "cell_type": "markdown",
   "metadata": {},
   "source": [
    "**HINT:**\n",
    "\n",
    "from ...... import Tab...."
   ]
  },
  {
   "cell_type": "code",
   "execution_count": null,
   "metadata": {},
   "outputs": [],
   "source": []
  },
  {
   "cell_type": "code",
   "execution_count": 15,
   "metadata": {
    "scrolled": true
   },
   "outputs": [
    {
     "data": {
      "text/html": [
       "<i>Table length=3831</i>\n",
       "<table id=\"table139975407757072\" class=\"table-striped table-bordered table-condensed\">\n",
       "<thead><tr><th>flux</th><th>loglam</th><th>ivar</th><th>and_mask</th><th>or_mask</th><th>wdisp</th><th>sky</th><th>model</th></tr></thead>\n",
       "<thead><tr><th>float32</th><th>float32</th><th>float32</th><th>int32</th><th>int32</th><th>float32</th><th>float32</th><th>float32</th></tr></thead>\n",
       "<tr><td>9.293648</td><td>3.5813</td><td>0.11665229</td><td>0</td><td>0</td><td>1.0671297</td><td>11.825671</td><td>7.3271756</td></tr>\n",
       "<tr><td>10.167303</td><td>3.5814</td><td>0.11261832</td><td>0</td><td>0</td><td>1.0668778</td><td>11.689794</td><td>7.2770324</td></tr>\n",
       "<tr><td>9.468742</td><td>3.5815</td><td>0.1127297</td><td>0</td><td>0</td><td>1.0666304</td><td>11.270542</td><td>7.180904</td></tr>\n",
       "<tr><td>2.966684</td><td>3.5816</td><td>0.12347537</td><td>0</td><td>0</td><td>1.0663815</td><td>11.09525</td><td>7.076686</td></tr>\n",
       "<tr><td>1.4975166</td><td>3.5817</td><td>0.120063454</td><td>0</td><td>0</td><td>1.0661331</td><td>10.838118</td><td>7.026517</td></tr>\n",
       "<tr><td>6.7950177</td><td>3.5818</td><td>0.11049071</td><td>0</td><td>0</td><td>1.0658833</td><td>10.514859</td><td>6.9473352</td></tr>\n",
       "<tr><td>8.090043</td><td>3.5819</td><td>0.10501642</td><td>0</td><td>0</td><td>1.0656315</td><td>10.1472435</td><td>7.056638</td></tr>\n",
       "<tr><td>9.47477</td><td>3.582</td><td>0.10371054</td><td>0</td><td>0</td><td>1.0653819</td><td>9.641976</td><td>6.9291387</td></tr>\n",
       "<tr><td>7.585756</td><td>3.5821</td><td>0.103026636</td><td>0</td><td>1048576</td><td>1.0651326</td><td>9.088127</td><td>6.7768626</td></tr>\n",
       "<tr><td>4.504269</td><td>3.5822</td><td>0.10694934</td><td>0</td><td>1048576</td><td>1.0648826</td><td>8.522104</td><td>6.8074822</td></tr>\n",
       "<tr><td>...</td><td>...</td><td>...</td><td>...</td><td>...</td><td>...</td><td>...</td><td>...</td></tr>\n",
       "<tr><td>3.8803165</td><td>3.9634</td><td>0.43416274</td><td>0</td><td>1048576</td><td>0.70293534</td><td>4.101954</td><td>2.024286</td></tr>\n",
       "<tr><td>1.8676271</td><td>3.9635</td><td>0.41823322</td><td>1048576</td><td>1048576</td><td>0.7029351</td><td>4.6081023</td><td>2.0227146</td></tr>\n",
       "<tr><td>3.4024346</td><td>3.9636</td><td>0.38586256</td><td>1048576</td><td>1048576</td><td>0.7029368</td><td>5.1487355</td><td>2.0254478</td></tr>\n",
       "<tr><td>1.7798064</td><td>3.9637</td><td>0.39497006</td><td>1048576</td><td>1048576</td><td>0.702939</td><td>5.284342</td><td>2.0279245</td></tr>\n",
       "<tr><td>0.082876675</td><td>3.9638</td><td>0.4180186</td><td>1048576</td><td>1048576</td><td>0.7029404</td><td>5.15509</td><td>2.0256271</td></tr>\n",
       "<tr><td>3.9351192</td><td>3.9639</td><td>0.39365768</td><td>0</td><td>1048576</td><td>0.70294446</td><td>5.151771</td><td>2.020857</td></tr>\n",
       "<tr><td>4.692594</td><td>3.964</td><td>0.3668017</td><td>0</td><td>1048576</td><td>0.70294654</td><td>5.241247</td><td>2.0209317</td></tr>\n",
       "<tr><td>2.4868839</td><td>3.9641</td><td>0.34816056</td><td>1048576</td><td>1048576</td><td>0.7029493</td><td>5.5086994</td><td>2.0225418</td></tr>\n",
       "<tr><td>1.1945927</td><td>3.9642</td><td>0.31996083</td><td>1048576</td><td>1048576</td><td>0.7029531</td><td>6.0806837</td><td>2.0270708</td></tr>\n",
       "<tr><td>-2.2900624</td><td>3.9643</td><td>0.314787</td><td>1048576</td><td>1048576</td><td>0.70295763</td><td>6.7316446</td><td>2.0305986</td></tr>\n",
       "</table>"
      ],
      "text/plain": [
       "<Table length=3831>\n",
       "    flux     loglam     ivar    and_mask or_mask   wdisp       sky       model  \n",
       "  float32   float32   float32    int32    int32   float32    float32    float32 \n",
       "----------- ------- ----------- -------- ------- ---------- ---------- ---------\n",
       "   9.293648  3.5813  0.11665229        0       0  1.0671297  11.825671 7.3271756\n",
       "  10.167303  3.5814  0.11261832        0       0  1.0668778  11.689794 7.2770324\n",
       "   9.468742  3.5815   0.1127297        0       0  1.0666304  11.270542  7.180904\n",
       "   2.966684  3.5816  0.12347537        0       0  1.0663815   11.09525  7.076686\n",
       "  1.4975166  3.5817 0.120063454        0       0  1.0661331  10.838118  7.026517\n",
       "  6.7950177  3.5818  0.11049071        0       0  1.0658833  10.514859 6.9473352\n",
       "   8.090043  3.5819  0.10501642        0       0  1.0656315 10.1472435  7.056638\n",
       "    9.47477   3.582  0.10371054        0       0  1.0653819   9.641976 6.9291387\n",
       "   7.585756  3.5821 0.103026636        0 1048576  1.0651326   9.088127 6.7768626\n",
       "   4.504269  3.5822  0.10694934        0 1048576  1.0648826   8.522104 6.8074822\n",
       "        ...     ...         ...      ...     ...        ...        ...       ...\n",
       "  3.8803165  3.9634  0.43416274        0 1048576 0.70293534   4.101954  2.024286\n",
       "  1.8676271  3.9635  0.41823322  1048576 1048576  0.7029351  4.6081023 2.0227146\n",
       "  3.4024346  3.9636  0.38586256  1048576 1048576  0.7029368  5.1487355 2.0254478\n",
       "  1.7798064  3.9637  0.39497006  1048576 1048576   0.702939   5.284342 2.0279245\n",
       "0.082876675  3.9638   0.4180186  1048576 1048576  0.7029404    5.15509 2.0256271\n",
       "  3.9351192  3.9639  0.39365768        0 1048576 0.70294446   5.151771  2.020857\n",
       "   4.692594   3.964   0.3668017        0 1048576 0.70294654   5.241247 2.0209317\n",
       "  2.4868839  3.9641  0.34816056  1048576 1048576  0.7029493  5.5086994 2.0225418\n",
       "  1.1945927  3.9642  0.31996083  1048576 1048576  0.7029531  6.0806837 2.0270708\n",
       " -2.2900624  3.9643    0.314787  1048576 1048576 0.70295763  6.7316446 2.0305986"
      ]
     },
     "execution_count": 15,
     "metadata": {},
     "output_type": "execute_result"
    }
   ],
   "source": []
  },
  {
   "cell_type": "markdown",
   "metadata": {},
   "source": [
    "### now you leant how to read file! use a for loop to read all file but notice\n",
    "\n",
    "*) use list notion to keep the track od each file\n",
    "    fitfile = []\n",
    "    for i in range(len(list of fits)):\n",
    "        hdul = fits.open(spec_list[i])\n",
    "        \n",
    "        \n",
    "*) redshift is at the end of filename use split \n",
    "    my_str = 'majid@majid.com'\n",
    "    splited_add = my_str.split(@)\n",
    "    splitted_add[0] = majid\n",
    "    splitted_add[1] = majid.com\n",
    "    \n",
    "*) The next part is your homework"
   ]
  },
  {
   "cell_type": "code",
   "execution_count": null,
   "metadata": {},
   "outputs": [],
   "source": []
  },
  {
   "cell_type": "markdown",
   "metadata": {},
   "source": [
    "**HINT**\n",
    "\n",
    "X_train = []\n",
    "\n",
    "\n",
    "lam_max = 3500\n",
    "\n",
    "for i in range(len(spec_list)):\n",
    "    \n",
    "    hdul = fits.open(spec_list[i])  # open a FITS file\n",
    "   \n",
    "\n",
    "    ....\n",
    "    \n",
    "    zclass = int(10*(z-1))\n",
    "    \n",
    "    zhotv = np.zeros(10)\n",
    "    \n",
    "    zhotv[zclass] = 1\n",
    "    \n",
    "    if i<len(spec_list)//2:\n",
    "        \n",
    "        X_train.append(xx)\n",
    "    ....\n",
    "    else:\n",
    "        X_test.append(xx)\n",
    "       ....\n",
    "    # tdata"
   ]
  },
  {
   "cell_type": "markdown",
   "metadata": {},
   "source": [
    "### Create the test and training set for parameter and target\n",
    "### Then print the shape of each "
   ]
  },
  {
   "cell_type": "code",
   "execution_count": null,
   "metadata": {},
   "outputs": [],
   "source": []
  },
  {
   "cell_type": "markdown",
   "metadata": {},
   "source": []
  },
  {
   "cell_type": "markdown",
   "metadata": {},
   "source": [
    "### Now it is time to create the Neural Network\n",
    "#### first import the needed library"
   ]
  },
  {
   "cell_type": "code",
   "execution_count": null,
   "metadata": {},
   "outputs": [],
   "source": []
  },
  {
   "cell_type": "code",
   "execution_count": 18,
   "metadata": {},
   "outputs": [
    {
     "name": "stderr",
     "output_type": "stream",
     "text": [
      "Using TensorFlow backend.\n"
     ]
    }
   ],
   "source": [
    "from keras.models import Sequential\n",
    "from keras.layers import Dense, Activation, Dropout, Conv1D, MaxPooling1D, Flatten"
   ]
  },
  {
   "cell_type": "markdown",
   "metadata": {},
   "source": [
    "### Create the NN using Keras"
   ]
  },
  {
   "cell_type": "code",
   "execution_count": null,
   "metadata": {},
   "outputs": [],
   "source": []
  },
  {
   "cell_type": "markdown",
   "metadata": {},
   "source": [
    "**HINT:** \n",
    "\n",
    "model = Sequential()\n",
    "\n",
    "model.add(Conv1D(.....))\n",
    "\n",
    "model.add(MaxPooling1D(......))\n",
    "\n",
    "model.add(Conv1D(......\n",
    "\n",
    "model.add(MaxPooling1D(.....\n",
    "\n",
    "model.add(Conv1D(10, 10, .....\n",
    "\n",
    "model.add(MaxPooling1D(....\n",
    "\n",
    "model.add(Flatte......\n",
    "\n",
    "model.add(Dense(32, ....\n",
    "\n",
    "model.add(Dense(16, ....\n",
    "\n",
    "model.add(Dropout(.....\n",
    "\n",
    "model.add(Dense(10, activation='si....."
   ]
  },
  {
   "cell_type": "code",
   "execution_count": null,
   "metadata": {},
   "outputs": [],
   "source": []
  },
  {
   "cell_type": "markdown",
   "metadata": {},
   "source": [
    "### compile the model"
   ]
  },
  {
   "cell_type": "code",
   "execution_count": null,
   "metadata": {},
   "outputs": [],
   "source": []
  },
  {
   "cell_type": "code",
   "execution_count": null,
   "metadata": {},
   "outputs": [],
   "source": [
    "model.compile(loss='categorical_cro....."
   ]
  },
  {
   "cell_type": "markdown",
   "metadata": {},
   "source": [
    "### Fit the model"
   ]
  },
  {
   "cell_type": "code",
   "execution_count": null,
   "metadata": {},
   "outputs": [],
   "source": []
  },
  {
   "cell_type": "code",
   "execution_count": 21,
   "metadata": {},
   "outputs": [
    {
     "name": "stdout",
     "output_type": "stream",
     "text": [
      "WARNING:tensorflow:From /home/majid/anaconda3/lib/python3.7/site-packages/keras/backend/tensorflow_backend.py:3445: calling dropout (from tensorflow.python.ops.nn_ops) with keep_prob is deprecated and will be removed in a future version.\n",
      "Instructions for updating:\n",
      "Please use `rate` instead of `keep_prob`. Rate should be set to `rate = 1 - keep_prob`.\n",
      "WARNING:tensorflow:From /home/majid/anaconda3/lib/python3.7/site-packages/tensorflow/python/ops/math_ops.py:3066: to_int32 (from tensorflow.python.ops.math_ops) is deprecated and will be removed in a future version.\n",
      "Instructions for updating:\n",
      "Use tf.cast instead.\n",
      "Epoch 1/100\n",
      "1580/1580 [==============================] - 5s 3ms/step - loss: 2.4489 - acc: 0.0899\n",
      "Epoch 2/100\n",
      "1580/1580 [==============================] - 4s 2ms/step - loss: 2.3282 - acc: 0.1006\n",
      "Epoch 3/100\n",
      "1580/1580 [==============================] - 4s 2ms/step - loss: 2.2944 - acc: 0.1203\n",
      "Epoch 4/100\n",
      "1580/1580 [==============================] - 4s 2ms/step - loss: 2.2744 - acc: 0.1297\n",
      "Epoch 5/100\n",
      "1580/1580 [==============================] - 4s 3ms/step - loss: 2.2366 - acc: 0.1589\n",
      "Epoch 6/100\n",
      "1580/1580 [==============================] - 3s 2ms/step - loss: 2.2203 - acc: 0.1684\n",
      "Epoch 7/100\n",
      "1580/1580 [==============================] - 3s 2ms/step - loss: 2.1642 - acc: 0.2063\n",
      "Epoch 8/100\n",
      "1580/1580 [==============================] - 3s 2ms/step - loss: 2.1072 - acc: 0.2177\n",
      "Epoch 9/100\n",
      "1580/1580 [==============================] - 3s 2ms/step - loss: 2.0519 - acc: 0.2234\n",
      "Epoch 10/100\n",
      "1580/1580 [==============================] - 4s 2ms/step - loss: 2.0180 - acc: 0.2259\n",
      "Epoch 11/100\n",
      "1580/1580 [==============================] - 3s 2ms/step - loss: 2.0016 - acc: 0.2342\n",
      "Epoch 12/100\n",
      "1580/1580 [==============================] - 3s 2ms/step - loss: 1.9117 - acc: 0.2551\n",
      "Epoch 13/100\n",
      "1580/1580 [==============================] - 3s 2ms/step - loss: 1.9240 - acc: 0.2519\n",
      "Epoch 14/100\n",
      "1580/1580 [==============================] - 3s 2ms/step - loss: 1.8565 - acc: 0.2778\n",
      "Epoch 15/100\n",
      "1580/1580 [==============================] - 3s 2ms/step - loss: 1.8553 - acc: 0.2766\n",
      "Epoch 16/100\n",
      "1580/1580 [==============================] - 3s 2ms/step - loss: 1.7821 - acc: 0.3291\n",
      "Epoch 17/100\n",
      "1580/1580 [==============================] - 3s 2ms/step - loss: 1.7759 - acc: 0.2956\n",
      "Epoch 18/100\n",
      "1580/1580 [==============================] - 3s 2ms/step - loss: 1.7443 - acc: 0.3038\n",
      "Epoch 19/100\n",
      "1580/1580 [==============================] - 3s 2ms/step - loss: 1.7566 - acc: 0.3000\n",
      "Epoch 20/100\n",
      "1580/1580 [==============================] - 3s 2ms/step - loss: 1.7331 - acc: 0.3247\n",
      "Epoch 21/100\n",
      "1580/1580 [==============================] - 4s 2ms/step - loss: 1.6541 - acc: 0.3304\n",
      "Epoch 22/100\n",
      "1580/1580 [==============================] - 4s 2ms/step - loss: 1.6749 - acc: 0.3538\n",
      "Epoch 23/100\n",
      "1580/1580 [==============================] - 4s 2ms/step - loss: 1.6486 - acc: 0.3563\n",
      "Epoch 24/100\n",
      "1580/1580 [==============================] - 4s 2ms/step - loss: 1.6227 - acc: 0.3709\n",
      "Epoch 25/100\n",
      "1580/1580 [==============================] - 3s 2ms/step - loss: 1.5564 - acc: 0.3994\n",
      "Epoch 26/100\n",
      "1580/1580 [==============================] - 4s 2ms/step - loss: 1.4781 - acc: 0.4285\n",
      "Epoch 27/100\n",
      "1580/1580 [==============================] - 3s 2ms/step - loss: 1.4322 - acc: 0.4430\n",
      "Epoch 28/100\n",
      "1580/1580 [==============================] - 3s 2ms/step - loss: 1.3485 - acc: 0.4797\n",
      "Epoch 29/100\n",
      "1580/1580 [==============================] - 3s 2ms/step - loss: 1.3030 - acc: 0.4899\n",
      "Epoch 30/100\n",
      "1580/1580 [==============================] - 3s 2ms/step - loss: 1.3065 - acc: 0.4772\n",
      "Epoch 31/100\n",
      "1580/1580 [==============================] - 3s 2ms/step - loss: 1.2505 - acc: 0.5006\n",
      "Epoch 32/100\n",
      "1580/1580 [==============================] - 3s 2ms/step - loss: 1.1886 - acc: 0.5203\n",
      "Epoch 33/100\n",
      "1580/1580 [==============================] - 4s 2ms/step - loss: 1.1453 - acc: 0.5241\n",
      "Epoch 34/100\n",
      "1580/1580 [==============================] - 5s 3ms/step - loss: 1.1627 - acc: 0.5608\n",
      "Epoch 35/100\n",
      "1580/1580 [==============================] - 4s 3ms/step - loss: 1.1274 - acc: 0.5494\n",
      "Epoch 36/100\n",
      "1580/1580 [==============================] - 4s 3ms/step - loss: 1.0838 - acc: 0.5620\n",
      "Epoch 37/100\n",
      "1580/1580 [==============================] - 3s 2ms/step - loss: 1.0685 - acc: 0.5677\n",
      "Epoch 38/100\n",
      "1580/1580 [==============================] - 4s 2ms/step - loss: 1.0492 - acc: 0.5741\n",
      "Epoch 39/100\n",
      "1580/1580 [==============================] - 3s 2ms/step - loss: 0.9906 - acc: 0.6165\n",
      "Epoch 40/100\n",
      "1580/1580 [==============================] - 4s 2ms/step - loss: 1.0720 - acc: 0.5842\n",
      "Epoch 41/100\n",
      "1580/1580 [==============================] - 3s 2ms/step - loss: 1.0176 - acc: 0.6063\n",
      "Epoch 42/100\n",
      "1580/1580 [==============================] - 4s 2ms/step - loss: 1.0243 - acc: 0.6158\n",
      "Epoch 43/100\n",
      "1580/1580 [==============================] - 4s 2ms/step - loss: 0.9855 - acc: 0.6291\n",
      "Epoch 44/100\n",
      "1580/1580 [==============================] - 4s 2ms/step - loss: 0.9918 - acc: 0.6475\n",
      "Epoch 45/100\n",
      "1580/1580 [==============================] - 4s 2ms/step - loss: 0.9675 - acc: 0.6259\n",
      "Epoch 46/100\n",
      "1580/1580 [==============================] - 3s 2ms/step - loss: 0.9738 - acc: 0.6367\n",
      "Epoch 47/100\n",
      "1580/1580 [==============================] - 3s 2ms/step - loss: 0.9307 - acc: 0.6437\n",
      "Epoch 48/100\n",
      "1580/1580 [==============================] - 3s 2ms/step - loss: 0.9428 - acc: 0.6405\n",
      "Epoch 49/100\n",
      "1580/1580 [==============================] - 3s 2ms/step - loss: 0.9493 - acc: 0.6430\n",
      "Epoch 50/100\n",
      "1580/1580 [==============================] - 3s 2ms/step - loss: 0.9446 - acc: 0.6424\n",
      "Epoch 51/100\n",
      "1580/1580 [==============================] - 3s 2ms/step - loss: 0.8999 - acc: 0.6665\n",
      "Epoch 52/100\n",
      "1580/1580 [==============================] - 3s 2ms/step - loss: 0.9234 - acc: 0.6563\n",
      "Epoch 53/100\n",
      "1580/1580 [==============================] - 3s 2ms/step - loss: 0.9719 - acc: 0.6304\n",
      "Epoch 54/100\n",
      "1580/1580 [==============================] - 3s 2ms/step - loss: 1.0213 - acc: 0.6323\n",
      "Epoch 55/100\n",
      "1580/1580 [==============================] - 3s 2ms/step - loss: 0.9399 - acc: 0.6563\n",
      "Epoch 56/100\n",
      "1580/1580 [==============================] - 4s 3ms/step - loss: 0.8375 - acc: 0.7025\n",
      "Epoch 57/100\n",
      "1580/1580 [==============================] - 3s 2ms/step - loss: 0.8853 - acc: 0.6633\n",
      "Epoch 58/100\n",
      "1580/1580 [==============================] - 3s 2ms/step - loss: 0.8833 - acc: 0.6652\n",
      "Epoch 59/100\n",
      "1580/1580 [==============================] - 3s 2ms/step - loss: 0.8846 - acc: 0.6854\n",
      "Epoch 60/100\n",
      "1580/1580 [==============================] - 3s 2ms/step - loss: 0.8399 - acc: 0.6848\n",
      "Epoch 61/100\n",
      "1580/1580 [==============================] - 3s 2ms/step - loss: 0.7973 - acc: 0.7051\n",
      "Epoch 62/100\n",
      "1580/1580 [==============================] - 3s 2ms/step - loss: 0.8037 - acc: 0.7006\n",
      "Epoch 63/100\n",
      "1580/1580 [==============================] - 3s 2ms/step - loss: 0.7974 - acc: 0.7089\n",
      "Epoch 64/100\n",
      "1580/1580 [==============================] - 3s 2ms/step - loss: 0.7714 - acc: 0.7076\n",
      "Epoch 65/100\n",
      "1580/1580 [==============================] - 3s 2ms/step - loss: 0.7309 - acc: 0.7342\n",
      "Epoch 66/100\n",
      "1580/1580 [==============================] - 3s 2ms/step - loss: 0.8163 - acc: 0.7006\n",
      "Epoch 67/100\n",
      "1580/1580 [==============================] - 3s 2ms/step - loss: 0.8242 - acc: 0.7000\n",
      "Epoch 68/100\n",
      "1580/1580 [==============================] - 3s 2ms/step - loss: 0.7768 - acc: 0.7019\n",
      "Epoch 69/100\n",
      "1580/1580 [==============================] - 3s 2ms/step - loss: 0.7686 - acc: 0.6930\n",
      "Epoch 70/100\n",
      "1580/1580 [==============================] - 3s 2ms/step - loss: 0.7840 - acc: 0.7057\n",
      "Epoch 71/100\n",
      "1580/1580 [==============================] - 3s 2ms/step - loss: 0.7319 - acc: 0.7177\n",
      "Epoch 72/100\n",
      "1580/1580 [==============================] - 3s 2ms/step - loss: 0.7798 - acc: 0.7120\n",
      "Epoch 73/100\n",
      "1580/1580 [==============================] - 3s 2ms/step - loss: 0.7506 - acc: 0.7272\n",
      "Epoch 74/100\n",
      "1580/1580 [==============================] - 3s 2ms/step - loss: 0.6952 - acc: 0.7411\n",
      "Epoch 75/100\n",
      "1580/1580 [==============================] - 3s 2ms/step - loss: 0.7422 - acc: 0.7259\n",
      "Epoch 76/100\n",
      "1580/1580 [==============================] - 3s 2ms/step - loss: nan - acc: 0.4513\n",
      "Epoch 77/100\n",
      "1580/1580 [==============================] - 3s 2ms/step - loss: nan - acc: 0.0975\n",
      "Epoch 78/100\n",
      "1580/1580 [==============================] - 3s 2ms/step - loss: nan - acc: 0.0975\n",
      "Epoch 79/100\n",
      "1580/1580 [==============================] - 3s 2ms/step - loss: nan - acc: 0.0975\n",
      "Epoch 80/100\n",
      "1580/1580 [==============================] - 3s 2ms/step - loss: nan - acc: 0.0975\n",
      "Epoch 81/100\n",
      "1580/1580 [==============================] - 3s 2ms/step - loss: nan - acc: 0.0975\n",
      "Epoch 82/100\n",
      "1580/1580 [==============================] - 3s 2ms/step - loss: nan - acc: 0.0975\n",
      "Epoch 83/100\n",
      "1580/1580 [==============================] - 3s 2ms/step - loss: nan - acc: 0.0975\n",
      "Epoch 84/100\n",
      "1580/1580 [==============================] - 4s 2ms/step - loss: nan - acc: 0.0975\n",
      "Epoch 85/100\n",
      "1580/1580 [==============================] - 3s 2ms/step - loss: nan - acc: 0.0975\n",
      "Epoch 86/100\n",
      "1580/1580 [==============================] - 3s 2ms/step - loss: nan - acc: 0.0975\n",
      "Epoch 87/100\n",
      "1580/1580 [==============================] - 3s 2ms/step - loss: nan - acc: 0.0975\n",
      "Epoch 88/100\n",
      "1580/1580 [==============================] - 4s 2ms/step - loss: nan - acc: 0.0975\n",
      "Epoch 89/100\n",
      "1580/1580 [==============================] - 3s 2ms/step - loss: nan - acc: 0.0975\n",
      "Epoch 90/100\n",
      "1580/1580 [==============================] - 4s 2ms/step - loss: nan - acc: 0.0975\n",
      "Epoch 91/100\n",
      "1580/1580 [==============================] - 4s 2ms/step - loss: nan - acc: 0.0975\n",
      "Epoch 92/100\n",
      "1580/1580 [==============================] - 4s 2ms/step - loss: nan - acc: 0.0975\n",
      "Epoch 93/100\n",
      "1580/1580 [==============================] - 4s 2ms/step - loss: nan - acc: 0.0975\n",
      "Epoch 94/100\n",
      "1580/1580 [==============================] - 4s 2ms/step - loss: nan - acc: 0.0975\n",
      "Epoch 95/100\n",
      "1580/1580 [==============================] - 4s 2ms/step - loss: nan - acc: 0.0975\n",
      "Epoch 96/100\n",
      "1580/1580 [==============================] - 4s 2ms/step - loss: nan - acc: 0.0975\n",
      "Epoch 97/100\n",
      "1580/1580 [==============================] - 3s 2ms/step - loss: nan - acc: 0.0975\n",
      "Epoch 98/100\n",
      "1580/1580 [==============================] - 3s 2ms/step - loss: nan - acc: 0.0975\n",
      "Epoch 99/100\n",
      "1580/1580 [==============================] - 3s 2ms/step - loss: nan - acc: 0.0975\n",
      "Epoch 100/100\n",
      "1580/1580 [==============================] - 3s 2ms/step - loss: nan - acc: 0.0975\n"
     ]
    },
    {
     "data": {
      "text/plain": [
       "<keras.callbacks.History at 0x7f4e7720f668>"
      ]
     },
     "execution_count": 21,
     "metadata": {},
     "output_type": "execute_result"
    }
   ],
   "source": [
    "# model.fit(X_t..."
   ]
  },
  {
   "cell_type": "code",
   "execution_count": null,
   "metadata": {},
   "outputs": [],
   "source": []
  },
  {
   "cell_type": "markdown",
   "metadata": {},
   "source": [
    "### Evaluate the model"
   ]
  },
  {
   "cell_type": "code",
   "execution_count": null,
   "metadata": {},
   "outputs": [],
   "source": []
  },
  {
   "cell_type": "code",
   "execution_count": 26,
   "metadata": {},
   "outputs": [
    {
     "name": "stdout",
     "output_type": "stream",
     "text": [
      "1581/1581 [==============================] - 2s 1ms/step\n"
     ]
    },
    {
     "data": {
      "text/plain": [
       "[nan, 0.1062618595825427]"
      ]
     },
     "execution_count": 26,
     "metadata": {},
     "output_type": "execute_result"
    }
   ],
   "source": [
    "model.evaluate(X_t....."
   ]
  },
  {
   "cell_type": "code",
   "execution_count": null,
   "metadata": {},
   "outputs": [],
   "source": []
  },
  {
   "cell_type": "markdown",
   "metadata": {},
   "source": [
    "### Do prediction"
   ]
  },
  {
   "cell_type": "code",
   "execution_count": null,
   "metadata": {},
   "outputs": [],
   "source": []
  },
  {
   "cell_type": "markdown",
   "metadata": {},
   "source": [
    "**HINT:**\n",
    "\n",
    "y_pred = model.pr.......\n",
    "\n",
    "y_true = y_test.a.....\n",
    "\n",
    "y_pred = y_pred....."
   ]
  },
  {
   "cell_type": "code",
   "execution_count": null,
   "metadata": {},
   "outputs": [],
   "source": []
  },
  {
   "cell_type": "markdown",
   "metadata": {},
   "source": [
    "### Confusion Matrix plot\n",
    "### just use the Matrix below (the code is prepared! - just use it!)"
   ]
  },
  {
   "cell_type": "code",
   "execution_count": 28,
   "metadata": {},
   "outputs": [],
   "source": [
    "from sklearn.metrics import confusion_matrix\n",
    "\n",
    "def plot_confusion_matrix(y_true, y_pred, classes,\n",
    "                          normalize=False,\n",
    "                          title=None,\n",
    "                          cmap=plt.cm.Blues):\n",
    "    \"\"\"\n",
    "    This function prints and plots the confusion matrix.\n",
    "    Normalization can be applied by setting `normalize=True`.\n",
    "    \"\"\"\n",
    "    if not title:\n",
    "        if normalize:\n",
    "            title = 'Normalized confusion matrix'\n",
    "        else:\n",
    "            title = 'Confusion matrix, without normalization'\n",
    "\n",
    "    # Compute confusion matrix\n",
    "    cm = confusion_matrix(y_true, y_pred)\n",
    "    # Only use the labels that appear in the data\n",
    "#     classes = classes[unique_labels(y_true, y_pred)]\n",
    "    if normalize:\n",
    "        cm = cm.astype('float') / cm.sum(axis=1)[:, np.newaxis]\n",
    "#         print(\"Normalized confusion matrix\")\n",
    "#     else:\n",
    "#         print('Confusion matrix, without normalization')\n",
    "\n",
    "#     print(cm)\n",
    "    \n",
    "    fig, ax = plt.subplots(figsize=(10,10))\n",
    "    im = ax.imshow(cm, interpolation='nearest', cmap=cmap)\n",
    "    # We want to show all ticks...\n",
    "    ax.set(xticks=np.arange(cm.shape[1]),\n",
    "           yticks=np.arange(cm.shape[0]),\n",
    "           # ... and label them with the respective list entries\n",
    "           xticklabels=classes, yticklabels=classes,\n",
    "           title=title,\n",
    "           ylabel='True label',\n",
    "           xlabel='Predicted label')\n",
    "\n",
    "    # Rotate the tick labels and set their alignment.\n",
    "    plt.setp(ax.get_xticklabels(), rotation=45, ha=\"right\",\n",
    "             rotation_mode=\"anchor\")\n",
    "\n",
    "    # Loop over data dimensions and create text annotations.\n",
    "    fmt = '.2f' if normalize else 'd'\n",
    "    thresh = cm.max() / 2.\n",
    "    for i in range(cm.shape[0]):\n",
    "        for j in range(cm.shape[1]):\n",
    "            ax.text(j, i, format(cm[i, j], fmt),\n",
    "                    ha=\"center\", va=\"center\",\n",
    "                    color=\"white\" if cm[i, j] > thresh else \"black\")\n",
    "    fig.tight_layout()\n",
    "    return ax\n"
   ]
  },
  {
   "cell_type": "markdown",
   "metadata": {},
   "source": [
    "### The Output should be something like this:"
   ]
  },
  {
   "cell_type": "code",
   "execution_count": 1,
   "metadata": {},
   "outputs": [],
   "source": [
    "plot_confusion_matrix(y_true, y_pred,\n",
    "                      ['{:4.2f}'.format(i+0.05) for i in np.linspace(0,1,10,endpoint=0)],\n",
    "                      normalize=1,title='CM')"
   ]
  },
  {
   "cell_type": "code",
   "execution_count": null,
   "metadata": {},
   "outputs": [],
   "source": [
    "\n"
   ]
  }
 ],
 "metadata": {
  "kernelspec": {
   "display_name": "Python 3",
   "language": "python",
   "name": "python3"
  },
  "language_info": {
   "codemirror_mode": {
    "name": "ipython",
    "version": 3
   },
   "file_extension": ".py",
   "mimetype": "text/x-python",
   "name": "python",
   "nbconvert_exporter": "python",
   "pygments_lexer": "ipython3",
   "version": "3.6.6"
  }
 },
 "nbformat": 4,
 "nbformat_minor": 2
}
